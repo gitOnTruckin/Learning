{
 "cells": [
  {
   "cell_type": "markdown",
   "id": "72776784-1ce2-4f8e-8a0b-a1c3828bb77f",
   "metadata": {},
   "source": [
    "# Getting Started Containers\n",
    "## Overview\n",
    "\n",
    "Virtual Machines have their own kernel on the HyperVisor, while a container runtime uses the host machine kernel\n",
    "\n",
    "System containers are used as a foundation to build your own container images\n",
    "* **alpine**\n",
    "* **ubuntu**\n",
    "\n",
    "These are not meant to be replacements of a virtual machine\n",
    "\n",
    "Application containers are used to simply start an application\n",
    "\n",
    "Containers rely on features of the Linux Kernel\n",
    "* **namespaces** and **chroot** -- limit what can be accessed and seen, resource isolation\n",
    "* **cgroups** -- resource limitation\n",
    "* **SELinux** -- security\n",
    "\n",
    "Docker Desktop provides and easy way to run containers on Windows or Mac\n",
    "\n",
    "Linux containers are ordinary processes on a Linux system, isolated from other processes. They are all part of a cgroup.\n",
    "* `cat /proc/[PID]/cgroup`\n",
    "* `cat /proc/self/attr/current` -- SELinux labels\n",
    "* `ls /proc/[PID]/ns` -- list of namespaces\n",
    "\n",
    "A container is different is that it is started froma container image\n",
    "\n",
    "The container runtime is the operating system part that manages cgroups, SELinux labels and namespaces and starts the container from an image\n",
    "\n",
    "The container orchestration layer allows for containers to work together. Similar to microservice idea of developing minimal pieces of code and joining them.\n",
    "* Kubernetes\n",
    "* OpenShift etc.\n",
    "\n",
    "A container is a running instance of an image. An image is the application code, language runtime and libraries needed to run the application.\n",
    "\n",
    "A container image would also include external libs often provided by host system. Because of this it may be tied to a certain linux distro\n",
    "\n",
    "The image is a read-only instance of the application. A writable layer is added so that changes can be stored while working with the container.\n",
    "\n",
    "A container image is basically a tar ball containing:\n",
    "* Container root file system - presented as a mount namespace\n",
    "* Metadata - JSON file that specifiis how to run the root file system and the settings required\n",
    "* The entrypoint application, environment variables, etc.\n",
    "\n",
    "Container images are layered. You can install additional content, add a new JSON file, and store the differences in a new TAR file\n",
    "\n",
    "Container images are shared through public registries or shared so they can be built easily --such as with a Dockerfile.\n",
    "\n",
    "Docker images are made of a series of filesystem layers. Each layer adds, remove, or modifies files from the preceding layer in the filesystem. It is an example of an overlay filesystem.\n",
    "\n",
    "Apart from its different layers, container images have a container configuration file that provides instructions on how to run the container.\n",
    "\n",
    "The starting layer is often a small system image like alpine. They Ruby application layer would sit on top of the system image layer. Since there are different layers, the setting for both can be managed independently. You can also add your own application on top of these layers.\n",
    "\n"
   ]
  },
  {
   "cell_type": "markdown",
   "id": "260a6b49-e6ac-4ab1-b7ba-4d6b22badfc2",
   "metadata": {},
   "source": [
    "## Registries\n",
    "A container Registry helps with the distribution of images. You can also manually distribute images with tar balls, but this is not  recommended.\n",
    "\n",
    "Remote Registries are common, such as:\n",
    "* DockerHub registry == https:hub.docker.com\n",
    "* Quay == https://quay.io --Used for RedHat images\n",
    "\n",
    "Setting up your own local private registry is also possible.\n",
    "\n",
    "There may be a need for authenticated registry access. This allows for added functionality and allows for more downloads of images.\n",
    "- `podman login` to authenticate to the registry\n",
    "\n",
    "Downloading an image. Can specify the exact registry you want to pull from.b Can also specify the tag to download a specific version of the image\n",
    "- `podman pull nginx` "
   ]
  },
  {
   "cell_type": "markdown",
   "id": "fa114f39-6913-4360-aef4-cb0d70882606",
   "metadata": {
    "tags": []
   },
   "source": [
    "## Docker Tools\n",
    "\n",
    "Docker Desktop uses host OS virtualization features to run a Docker virtual machine -- Hyper-Visor. \n",
    "\n",
    "Docker Toolbox is an older technology, for older machines, using VirtualBox virtualization platform.\n",
    "\n",
    "Docker Desktop cannot route traffic to containers so you cannot access an exposed port."
   ]
  },
  {
   "cell_type": "markdown",
   "id": "4bef536d-531d-4595-9429-6e47314fe17d",
   "metadata": {
    "tags": []
   },
   "source": []
  }
 ],
 "metadata": {
  "kernelspec": {
   "display_name": "Python 3 (ipykernel)",
   "language": "python",
   "name": "python3"
  },
  "language_info": {
   "codemirror_mode": {
    "name": "ipython",
    "version": 3
   },
   "file_extension": ".py",
   "mimetype": "text/x-python",
   "name": "python",
   "nbconvert_exporter": "python",
   "pygments_lexer": "ipython3",
   "version": "3.11.5"
  }
 },
 "nbformat": 4,
 "nbformat_minor": 5
}
